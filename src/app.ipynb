{
 "cells": [
  {
   "attachments": {},
   "cell_type": "markdown",
   "metadata": {},
   "source": [
    "# Application for estimating the grades of portuguese students"
   ]
  },
  {
   "attachments": {},
   "cell_type": "markdown",
   "metadata": {},
   "source": [
    "## 1. Import all needed libraries"
   ]
  },
  {
   "cell_type": "code",
   "execution_count": 1,
   "metadata": {},
   "outputs": [],
   "source": [
    "import tkinter as tk\n",
    "import pandas as pd\n",
    "\n",
    "from tkinter import ttk\n",
    "from tkinter import filedialog as fd\n",
    "\n",
    "from app.preprocessing import PreprocessingCSV"
   ]
  },
  {
   "attachments": {},
   "cell_type": "markdown",
   "metadata": {},
   "source": [
    "## 2. Settings for the application"
   ]
  },
  {
   "attachments": {},
   "cell_type": "markdown",
   "metadata": {},
   "source": [
    "## 3. Define Application"
   ]
  },
  {
   "cell_type": "code",
   "execution_count": 2,
   "metadata": {},
   "outputs": [],
   "source": [
    "class App(tk.Tk):\n",
    "    def __init__(self):\n",
    "        super().__init__()\n",
    "        \n",
    "        self._path: str = \"\"\n",
    "        \n",
    "        self.title(\"Student Grade Prediction\")\n",
    "        self.geometry(\"400x400\")\n",
    "        self.resizable(False, False)\n",
    "\n",
    "        # Open CSV file\n",
    "        self.open_csv_button = ttk.Button(self, text=\"Load Students CSV file\", command=self.select_csv)\n",
    "        self.open_csv_button.pack()\n",
    "        \n",
    "        # Predict button\n",
    "        self.predict_button = ttk.Button(self, text=\"Predict\", command=self.predict)\n",
    "        self.predict_button.pack()\n",
    "        \n",
    "    def reset(self):\n",
    "        self._path = \"\"\n",
    "        print(\"Reset\")\n",
    "    \n",
    "    def select_csv(self):\n",
    "        accepted_formats = [(\"CSV files\", \"*.csv\"), (\"All files\", \"*.*\")]\n",
    "        self._path = fd.askopenfilename(title=\"Select CSV file\", filetypes=accepted_formats)\n",
    "        print(self._path)\n",
    "        \n",
    "    def predict(self):\n",
    "        if self._path:\n",
    "            preprocessing = PreprocessingCSV(self._path, sep=\";\")\n",
    "            preprocessing.process()\n",
    "            data = preprocessing.processed_data\n",
    "            print(data.info(verbose=True))\n",
    "        else:\n",
    "            print(\"No CSV file selected\")\n",
    "    "
   ]
  },
  {
   "attachments": {},
   "cell_type": "markdown",
   "metadata": {},
   "source": [
    "## Start App"
   ]
  },
  {
   "cell_type": "code",
   "execution_count": 3,
   "metadata": {},
   "outputs": [
    {
     "name": "stdout",
     "output_type": "stream",
     "text": [
      "/home/tom/projects/probability-ki/data/student-por_2.csv\n",
      "<class 'pandas.core.frame.DataFrame'>\n",
      "RangeIndex: 599 entries, 0 to 598\n",
      "Data columns (total 31 columns):\n",
      " #   Column         Non-Null Count  Dtype  \n",
      "---  ------         --------------  -----  \n",
      " 0   school         599 non-null    object \n",
      " 1   sex            599 non-null    object \n",
      " 2   age            599 non-null    object \n",
      " 3   address        599 non-null    object \n",
      " 4   famsize        599 non-null    object \n",
      " 5   Pstatus        599 non-null    object \n",
      " 6   reason         599 non-null    object \n",
      " 7   guardian       599 non-null    object \n",
      " 8   traveltime     599 non-null    object \n",
      " 9   studytime      599 non-null    object \n",
      " 10  failures       599 non-null    object \n",
      " 11  activities     599 non-null    object \n",
      " 12  nursery        599 non-null    object \n",
      " 13  higher         599 non-null    object \n",
      " 14  internet       599 non-null    object \n",
      " 15  romantic       599 non-null    object \n",
      " 16  famrel         599 non-null    object \n",
      " 17  health         599 non-null    object \n",
      " 18  absences       599 non-null    object \n",
      " 19  G1             599 non-null    object \n",
      " 20  G2             599 non-null    object \n",
      " 21  G3             599 non-null    object \n",
      " 22  sup            599 non-null    int64  \n",
      " 23  alc            599 non-null    float64\n",
      " 24  social         599 non-null    float64\n",
      " 25  Pedu           599 non-null    float64\n",
      " 26  Pjob_teacher   599 non-null    float64\n",
      " 27  Pjob_health    599 non-null    float64\n",
      " 28  Pjob_services  599 non-null    float64\n",
      " 29  Pjob_at_home   599 non-null    float64\n",
      " 30  Pjob_other     599 non-null    float64\n",
      "dtypes: float64(8), int64(1), object(22)\n",
      "memory usage: 145.2+ KB\n",
      "None\n"
     ]
    }
   ],
   "source": [
    "if __name__ == \"__main__\":\n",
    "    app = App()\n",
    "    app.mainloop()"
   ]
  }
 ],
 "metadata": {
  "kernelspec": {
   "display_name": ".env",
   "language": "python",
   "name": "python3"
  },
  "language_info": {
   "codemirror_mode": {
    "name": "ipython",
    "version": 3
   },
   "file_extension": ".py",
   "mimetype": "text/x-python",
   "name": "python",
   "nbconvert_exporter": "python",
   "pygments_lexer": "ipython3",
   "version": "3.10.10"
  },
  "orig_nbformat": 4
 },
 "nbformat": 4,
 "nbformat_minor": 2
}
