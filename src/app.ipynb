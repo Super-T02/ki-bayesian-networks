{
 "cells": [
  {
   "attachments": {},
   "cell_type": "markdown",
   "metadata": {},
   "source": [
    "# Application for estimating the grades of portuguese students"
   ]
  },
  {
   "attachments": {},
   "cell_type": "markdown",
   "metadata": {},
   "source": [
    "## 1. Import all needed libraries"
   ]
  },
  {
   "cell_type": "code",
   "execution_count": 1,
   "metadata": {},
   "outputs": [],
   "source": [
    "import os\n",
    "\n",
    "import tkinter as tk\n",
    "import pandas as pd\n",
    "\n",
    "from typing import Any\n",
    "from tkinter import ttk\n",
    "from tkinter import filedialog as fd\n",
    "\n",
    "from pgmpy.models import BayesianNetwork\n",
    "\n",
    "from app.preprocessing import TunedPreprocessing, Preprocessing\n",
    "from app.network import Network, NetworkG1G2, NetworkG1OrG2"
   ]
  },
  {
   "attachments": {},
   "cell_type": "markdown",
   "metadata": {},
   "source": [
    "## 2. Settings for the application"
   ]
  },
  {
   "cell_type": "code",
   "execution_count": 2,
   "metadata": {},
   "outputs": [],
   "source": [
    "TRAIN_PATH = \"../data/student-por_2.csv\"\n",
    "DELIMITER = \";\"\n",
    "NUMBER_CORES = 10 # !IMPORTANT: Set this to the number of cores of your machine for parallelization. It is recommended to use not all cores."
   ]
  },
  {
   "attachments": {},
   "cell_type": "markdown",
   "metadata": {},
   "source": [
    "## 3. Define Application"
   ]
  },
  {
   "cell_type": "code",
   "execution_count": 3,
   "metadata": {},
   "outputs": [],
   "source": [
    "desc_1 = \"Please select a file to predict the final grade of a student *OR* define the input values manually.\"\n",
    "\n",
    "school_settings = {\"label\": \"School\", \"map_values\": [\"GP\", \"MS\"], \"text\": [\"Gabriel Pereira\", \"Mousinho da Silveira\"]}\n",
    "sex_settings = {\"label\": \"Gender\", \"map_values\": [\"F\", \"M\"], \"text\": [\"Female\", \"Male\"]}\n",
    "age_settings = {\"label\": \"Age\", \"map_values\": [i for i in range(15, 23, 1)], \"text\": [str(i) for i in range(15, 23, 1)]}\n",
    "address_settings = {\"label\": \"Address\", \"map_values\": [\"U\", \"R\"], \"text\": [\"Urban\", \"Rural\"]}\n",
    "family_size_settings = {\"label\": \"Family Size\", \"map_values\": [\"LE3\", \"GT3\"], \"text\": [\"Less than or equal to 3\", \"Greater than 3\"]}\n",
    "Pstatus_settings = {\"label\": \"Parent's Cohabitation Status\", \"map_values\": [\"T\", \"A\"], \"text\": [\"Living together\", \"Apart\"]}\n",
    "Fedu_settings = {\"label\": \"Mother's Education\", \"map_values\": [i for i in range(0, 5, 1)], \"text\": [\"None\", \"Primary Education (4th grade)\", \"5th to 9th grade\", \"Secondary Education\", \"Higher Education\"]}\n",
    "Medu_settings = {\"label\": \"Father's Education\", \"map_values\": [i for i in range(0, 5, 1)], \"text\": [\"None\", \"Primary Education (4th grade)\", \"5th to 9th grade\", \"Secondary Education\", \"Higher Education\"]}\n",
    "Fjob_settings = {\"label\": \"Mother's Job\", \"map_values\": [\"teacher\", \"health\", \"services\", \"at_home\", \"other\"], \"text\": [\"Teacher\", \"Healthcare\", \"Civil Services\", \"At Home\", \"Other\"]}\n",
    "Mjob_settings = {\"label\": \"Father's Job\", \"map_values\": [\"teacher\", \"health\", \"services\", \"at_home\", \"other\"], \"text\": [\"Teacher\", \"Healthcare\", \"Civil Services\", \"At Home\", \"Other\"]}\n",
    "reason_settings = {\"label\": \"Reason for Choosing this School\", \"map_values\": [\"home\", \"reputation\", \"course\", \"other\"], \"text\": [\"Close to Home\", \"School Reputation\", \"Course\", \"Other\"]}\n",
    "guardian_settings = {\"label\": \"Guardian\", \"map_values\": [\"mother\", \"father\", \"other\"], \"text\": [\"Mother\", \"Father\", \"Other\"]}\n",
    "traveltime_settings = {\"label\": \"Travel Time\", \"map_values\": [i for i in range(1, 5, 1)], \"text\": [\"Less than 15 min\", \"15 to 30 min\", \"30 min to 1 hour\", \"More than 1 hour\"]}\n",
    "studytime_settings = {\"label\": \"Weekly Study Time\", \"map_values\": [i for i in range(1, 5, 1)], \"text\": [\"Less than 2 hours\", \"2 to 5 hours\", \"5 to 10 hours\", \"More than 10 hours\"]}\n",
    "failures_settings = {\"label\": \"Number of Past Class Failures\", \"map_values\": [i for i in range(0, 4, 1)], \"text\": [\"None\", \"1\", \"2\", \"3 or more\"]}\n",
    "schoolsup_settings = {\"label\": \"Extra Educational Support\", \"map_values\": [\"yes\", \"no\"], \"text\": [\"Yes\", \"No\"]}\n",
    "famsup_settings = {\"label\": \"Family Educational Support\", \"map_values\": [\"yes\", \"no\"], \"text\": [\"Yes\", \"No\"]}\n",
    "paid_settings = {\"label\": \"Extra Paid Classes within the Course Subject\", \"map_values\": [\"yes\", \"no\"], \"text\": [\"Yes\", \"No\"]}\n",
    "activities_settings = {\"label\": \"Extra Curricular Activities\", \"map_values\": [\"yes\", \"no\"], \"text\": [\"Yes\", \"No\"]}\n",
    "nursery_settings = {\"label\": \"Attended Nursery School\", \"map_values\": [\"yes\", \"no\"], \"text\": [\"Yes\", \"No\"]}\n",
    "higher_settings = {\"label\": \"Wants to Take Higher Education\", \"map_values\": [\"yes\", \"no\"], \"text\": [\"Yes\", \"No\"]}\n",
    "internet_settings = {\"label\": \"Internet Access at Home\", \"map_values\": [\"yes\", \"no\"], \"text\": [\"Yes\", \"No\"]}\n",
    "romantic_settings = {\"label\": \"In a Romantic Relationship\", \"map_values\": [\"yes\", \"no\"], \"text\": [\"Yes\", \"No\"]}\n",
    "famrel_settings = {\"label\": \"Quality of Family Relationships\", \"map_values\": [i for i in range(1, 6, 1)], \"text\": [\"Very Bad\", \"Bad\", \"Neutral\", \"Good\", \"Very Good\"]}\n",
    "free_time_settings = {\"label\": \"Free Time after School\", \"map_values\": [i for i in range(1, 6, 1)], \"text\": [\"Very Low\", \"Low\", \"Neutral\", \"High\", \"Very High\"]}\n",
    "goout_settings = {\"label\": \"Going Out with Friends\", \"map_values\": [i for i in range(1, 6, 1)], \"text\": [\"Very Low\", \"Low\", \"Neutral\", \"High\", \"Very High\"]}\n",
    "Dalc_settings = {\"label\": \"Workday Alcohol Consumption\", \"map_values\": [i for i in range(1, 6, 1)], \"text\": [\"Very Low\", \"Low\", \"Neutral\", \"High\", \"Very High\"]}\n",
    "Walc_settings = {\"label\": \"Weekend Alcohol Consumption\", \"map_values\": [i for i in range(1, 6, 1)], \"text\": [\"Very Low\", \"Low\", \"Neutral\", \"High\", \"Very High\"]}\n",
    "health_settings = {\"label\": \"Current Health Status\", \"map_values\": [i for i in range(1, 6, 1)], \"text\": [\"Very Bad\", \"Bad\", \"Neutral\", \"Good\", \"Very Good\"]}\n",
    "absences_settings = {\"label\": \"Number of School Absences\", \"map_values\": [i for i in range(0, 93, 1)], \"text\": [str(i) for i in range(0, 93, 1)]}\n"
   ]
  },
  {
   "cell_type": "code",
   "execution_count": 4,
   "metadata": {},
   "outputs": [],
   "source": [
    "\n",
    "class App(tk.Tk):\n",
    "    PAD_X = 32\n",
    "    PAD_Y = 8\n",
    "    X_MAX = 1200\n",
    "    Y_MAX = 700\n",
    "    WRAP_LENGTH = X_MAX - (PAD_X * 2)\n",
    "    \n",
    "    def __init__(self):\n",
    "        super().__init__()\n",
    "        \n",
    "        self._original_data: pd.DataFrame | None = None\n",
    "        \n",
    "        self._path: str = \"\"\n",
    "        self._csv_data: pd.DataFrame | None = None\n",
    "        self._network_g1_g2: BayesianNetwork | None = None\n",
    "        self._networl_g1_or_g2: BayesianNetwork | None = None\n",
    "        \n",
    "        self.build_ui()\n",
    "        self.create_networks()\n",
    "    \n",
    "    def build_ui(self) -> None:\n",
    "        self.title(\"Student Grade Prediction\")\n",
    "        self.geometry(f\"{self.X_MAX}x{self.Y_MAX}\")\n",
    "        self.resizable(False, False)\n",
    "        \n",
    "        self.header = ttk.Label(self, text=\"Student Grade predictor\", font=(\"Arial\", 16, \"bold\"))\n",
    "        self.header.pack(padx=self.PAD_X, pady=self.PAD_Y)\n",
    "        self.dsc_1 = ttk.Label(self, text=desc_1, wraplength=self.WRAP_LENGTH)\n",
    "        self.dsc_1.pack(padx=self.PAD_X, pady=self.PAD_Y, fill=\"x\")\n",
    "        \n",
    "        # Open CSV file\n",
    "        self.open_csv_btn = ttk.Button(self, text=\"Load Students CSV file\", command=self.select_csv)\n",
    "        self.open_csv_btn.pack(padx=self.PAD_X, pady=self.PAD_Y, fill=\"x\")\n",
    "        \n",
    "        self.reset_path_btn = ttk.Button(self, text=\"Reset Path\", command=self.reset_path, state=\"disabled\")\n",
    "        self.reset_path_btn.pack(padx=self.PAD_X, pady=self.PAD_Y, fill=\"x\")\n",
    "        \n",
    "        \n",
    "        # Path label\n",
    "        self.path_lbl = ttk.Label(self, text=f\"Path: {self._path if self._path else 'Not selected'}\", wraplength=512)\n",
    "        self.path_lbl.pack(padx=self.PAD_X, pady=self.PAD_Y, fill=\"x\")\n",
    "        \n",
    "        # Divider\n",
    "        hr = ttk.Separator(self, orient=\"horizontal\").pack(padx=self.PAD_X, pady=self.PAD_Y, fill=\"x\")\n",
    "        \n",
    "        # Form\n",
    "        self.build_form()\n",
    "        \n",
    "        # Predict button\n",
    "        self.predict_btn = ttk.Button(self, text=\"Predict\", command=self.predict)\n",
    "        self.predict_btn.pack(padx=self.PAD_X, pady=self.PAD_Y, fill=\"x\")\n",
    "        \n",
    "        # Divider\n",
    "        hr2 = ttk.Separator(self, orient=\"horizontal\").pack(padx=self.PAD_X, pady=self.PAD_Y, fill=\"x\")\n",
    "        \n",
    "        # Result\n",
    "        self.result_lbl = ttk.Label(self, text=\"\", font=(\"Arial\", 16, \"bold\"))\n",
    "        self.result_lbl.pack(padx=self.PAD_X, pady=self.PAD_Y, fill=\"x\")\n",
    "        \n",
    "    def build_form(self) -> None:\n",
    "        self.form = ttk.Frame(self)\n",
    "        left_container = ttk.Frame(self.form)\n",
    "        left_container.columnconfigure(0, weight=1)\n",
    "        left_container.columnconfigure(1, weight=4)\n",
    "\n",
    "        # School\n",
    "        ttk.Label(left_container, text=school_settings[\"label\"]).grid(padx=4, pady=2, row=0, column=0, sticky=\"w\")\n",
    "        self.cmbx_school = ttk.Combobox(left_container, values=school_settings[\"text\"], state=\"readonly\")\n",
    "        self.cmbx_school.grid(row=0, column=1, sticky=\"we\")\n",
    "        \n",
    "        # Sex\n",
    "        ttk.Label(left_container, text=sex_settings[\"label\"]).grid(padx=4, pady=2,row=1, column=0, sticky=\"w\")\n",
    "        self.cmbx_sex = ttk.Combobox(left_container, values=sex_settings[\"text\"], state=\"readonly\")\n",
    "        self.cmbx_sex.grid(row=1, column=1, sticky=\"we\")\n",
    "        \n",
    "        # Age\n",
    "        ttk.Label(left_container, text=age_settings[\"label\"]).grid(padx=4, pady=2,row=2, column=0, sticky=\"w\")\n",
    "        self.cmbx_age = ttk.Combobox(left_container, values=age_settings[\"text\"], state=\"readonly\")\n",
    "        self.cmbx_age.grid(row=2, column=1, sticky=\"we\")\n",
    "        \n",
    "        # Address\n",
    "        ttk.Label(left_container, text=address_settings[\"label\"]).grid(padx=4, pady=2,row=3, column=0, sticky=\"w\")\n",
    "        self.cmbx_address = ttk.Combobox(left_container, values=address_settings[\"text\"], state=\"readonly\")\n",
    "        self.cmbx_address.grid(row=3, column=1, sticky=\"we\")\n",
    "        \n",
    "        # Family size\n",
    "        ttk.Label(left_container, text=family_size_settings[\"label\"]).grid(padx=4, pady=2,row=4, column=0, sticky=\"w\")\n",
    "        self.cmbx_family_size = ttk.Combobox(left_container, values=family_size_settings[\"text\"], state=\"readonly\")\n",
    "        self.cmbx_family_size.grid(row=4, column=1, sticky=\"we\")\n",
    "        \n",
    "        # Pstatus\n",
    "        ttk.Label(left_container, text=Pstatus_settings[\"label\"]).grid(padx=4, pady=2,row=5, column=0, sticky=\"w\")\n",
    "        self.cmbx_Pstatus = ttk.Combobox(left_container, values=Pstatus_settings[\"text\"], state=\"readonly\")\n",
    "        self.cmbx_Pstatus.grid(row=5, column=1, sticky=\"we\")\n",
    "        \n",
    "        # Medu\n",
    "        ttk.Label(left_container, text=Medu_settings[\"label\"]).grid(padx=4, pady=2,row=6, column=0, sticky=\"w\")\n",
    "        self.cmbx_medu = ttk.Combobox(left_container, values=Medu_settings[\"text\"], state=\"readonly\")\n",
    "        self.cmbx_medu.grid(row=6, column=1, sticky=\"we\")\n",
    "        \n",
    "        # Fedu\n",
    "        ttk.Label(left_container, text=Fedu_settings[\"label\"]).grid(padx=4, pady=2,row=7, column=0, sticky=\"w\")\n",
    "        self.cmbx_fedu = ttk.Combobox(left_container, values=Fedu_settings[\"text\"], state=\"readonly\")\n",
    "        self.cmbx_fedu.grid(row=7, column=1, sticky=\"we\")\n",
    "        \n",
    "        # Mjob\n",
    "        ttk.Label(left_container, text=Mjob_settings[\"label\"]).grid(padx=4, pady=2,row=8, column=0, sticky=\"w\")\n",
    "        self.cmbx_mjob = ttk.Combobox(left_container, values=Mjob_settings[\"text\"], state=\"readonly\")\n",
    "        self.cmbx_mjob.grid(row=8, column=1, sticky=\"we\")\n",
    "        \n",
    "        # Fjob\n",
    "        ttk.Label(left_container, text=Fjob_settings[\"label\"]).grid(padx=4, pady=2,row=9, column=0, sticky=\"w\")\n",
    "        self.cmbx_fjob = ttk.Combobox(left_container, values=Fjob_settings[\"text\"], state=\"readonly\")\n",
    "        self.cmbx_fjob.grid(row=9, column=1, sticky=\"we\")\n",
    "        \n",
    "        # Reason\n",
    "        ttk.Label(left_container, text=reason_settings[\"label\"]).grid(padx=4, pady=2,row=10, column=0, sticky=\"w\")\n",
    "        self.cmbx_reason = ttk.Combobox(left_container, values=reason_settings[\"text\"], state=\"readonly\")\n",
    "        self.cmbx_reason.grid(row=10, column=1, sticky=\"we\")\n",
    "        \n",
    "        # Guardian\n",
    "        ttk.Label(left_container, text=guardian_settings[\"label\"]).grid(padx=4, pady=2,row=11, column=0, sticky=\"w\")\n",
    "        self.cmbx_guardian = ttk.Combobox(left_container, values=guardian_settings[\"text\"], state=\"readonly\")\n",
    "        self.cmbx_guardian.grid(row=11, column=1, sticky=\"we\")\n",
    "        \n",
    "        # Traveltime\n",
    "        ttk.Label(left_container, text=traveltime_settings[\"label\"]).grid(padx=4, pady=2,row=12, column=0, sticky=\"w\")\n",
    "        self.cmbx_traveltime = ttk.Combobox(left_container, values=traveltime_settings[\"text\"], state=\"readonly\")\n",
    "        self.cmbx_traveltime.grid(row=12, column=1, sticky=\"we\")\n",
    "        \n",
    "        # Studytime\n",
    "        ttk.Label(left_container, text=studytime_settings[\"label\"]).grid(padx=4, pady=2,row=13, column=0, sticky=\"w\")\n",
    "        self.cmbx_studytime = ttk.Combobox(left_container, values=studytime_settings[\"text\"], state=\"readonly\")\n",
    "        self.cmbx_studytime.grid(row=13, column=1, sticky=\"we\")\n",
    "        \n",
    "        # Absences\n",
    "        ttk.Label(left_container, text=absences_settings[\"label\"]).grid(padx=4, pady=2,row=14, column=0, sticky=\"w\")\n",
    "        self.cmbx_absences = ttk.Combobox(left_container, values=absences_settings[\"text\"], state=\"readonly\")\n",
    "        self.cmbx_absences.grid(row=14, column=1, sticky=\"we\")\n",
    "        \n",
    "        left_container.grid(padx=8, pady=8, row=0, column=0, sticky=\"w\")\n",
    "        \n",
    "        ###### Right container ######\n",
    "        right_container = ttk.Frame(self.form)\n",
    "        right_container.columnconfigure(0, weight=1)\n",
    "        right_container.columnconfigure(1, weight=4)\n",
    "        # Failures\n",
    "        ttk.Label(right_container, text=failures_settings[\"label\"]).grid(padx=4, pady=2,row=0, column=0, sticky=\"w\")\n",
    "        self.cmbx_failures = ttk.Combobox(right_container, values=failures_settings[\"text\"], state=\"readonly\")\n",
    "        self.cmbx_failures.grid(row=0, column=1, sticky=\"we\")\n",
    "        \n",
    "        # Schoolsup\n",
    "        ttk.Label(right_container, text=schoolsup_settings[\"label\"]).grid(padx=4, pady=2,row=1, column=0, sticky=\"w\")\n",
    "        self.cmbx_schoolsup = ttk.Combobox(right_container, values=schoolsup_settings[\"text\"], state=\"readonly\")\n",
    "        self.cmbx_schoolsup.grid(row=1, column=1, sticky=\"we\")\n",
    "        \n",
    "        # Famsup\n",
    "        ttk.Label(right_container, text=famsup_settings[\"label\"]).grid(padx=4, pady=2,row=2, column=0, sticky=\"w\")\n",
    "        self.cmbx_famsup = ttk.Combobox(right_container, values=famsup_settings[\"text\"], state=\"readonly\")\n",
    "        self.cmbx_famsup.grid(row=2, column=1, sticky=\"we\")\n",
    "        \n",
    "        # Paid\n",
    "        ttk.Label(right_container, text=paid_settings[\"label\"]).grid(padx=4, pady=2,row=3, column=0, sticky=\"w\")\n",
    "        self.cmbx_paid = ttk.Combobox(right_container, values=paid_settings[\"text\"], state=\"readonly\")\n",
    "        self.cmbx_paid.grid(row=3, column=1, sticky=\"we\")\n",
    "        \n",
    "        # Activities\n",
    "        ttk.Label(right_container, text=activities_settings[\"label\"]).grid(padx=4, pady=2,row=4, column=0, sticky=\"w\")\n",
    "        self.cmbx_activities = ttk.Combobox(right_container, values=activities_settings[\"text\"], state=\"readonly\")\n",
    "        self.cmbx_activities.grid(row=4, column=1, sticky=\"we\")\n",
    "        \n",
    "        # Nursery\n",
    "        ttk.Label(right_container, text=nursery_settings[\"label\"]).grid(padx=4, pady=2,row=5, column=0, sticky=\"w\")\n",
    "        self.cmbx_nursery = ttk.Combobox(right_container, values=nursery_settings[\"text\"], state=\"readonly\")\n",
    "        self.cmbx_nursery.grid(row=5, column=1, sticky=\"we\")\n",
    "        \n",
    "        # Higher\n",
    "        ttk.Label(right_container, text=higher_settings[\"label\"]).grid(padx=4, pady=2,row=6, column=0, sticky=\"w\")\n",
    "        self.cmbx_higher = ttk.Combobox(right_container, values=higher_settings[\"text\"], state=\"readonly\")\n",
    "        self.cmbx_higher.grid(row=6, column=1, sticky=\"we\")\n",
    "        \n",
    "        # Internet\n",
    "        ttk.Label(right_container, text=internet_settings[\"label\"]).grid(padx=4, pady=2,row=7, column=0, sticky=\"w\")\n",
    "        self.cmbx_internet = ttk.Combobox(right_container, values=internet_settings[\"text\"], state=\"readonly\")\n",
    "        self.cmbx_internet.grid(row=7, column=1, sticky=\"we\")\n",
    "        \n",
    "        # Romantic\n",
    "        ttk.Label(right_container, text=romantic_settings[\"label\"]).grid(padx=4, pady=2,row=8, column=0, sticky=\"w\")\n",
    "        self.cmbx_romantic = ttk.Combobox(right_container, values=romantic_settings[\"text\"], state=\"readonly\")\n",
    "        self.cmbx_romantic.grid(row=8, column=1, sticky=\"we\")\n",
    "        \n",
    "        # Family Relationship\n",
    "        ttk.Label(right_container, text=famrel_settings[\"label\"]).grid(padx=4, pady=2,row=9, column=0, sticky=\"w\")\n",
    "        self.cmbx_family_rel = ttk.Combobox(right_container, values=famrel_settings[\"text\"], state=\"readonly\")\n",
    "        self.cmbx_family_rel.grid(row=9, column=1, sticky=\"we\")\n",
    "        \n",
    "        # Free time\n",
    "        ttk.Label(right_container, text=free_time_settings[\"label\"]).grid(padx=4, pady=2,row=10, column=0, sticky=\"w\")\n",
    "        self.cmbx_free_time = ttk.Combobox(right_container, values=free_time_settings[\"text\"], state=\"readonly\")\n",
    "        self.cmbx_free_time.grid(row=10, column=1, sticky=\"we\")\n",
    "        \n",
    "        # Go out\n",
    "        ttk.Label(right_container, text=goout_settings[\"label\"]).grid(padx=4, pady=2,row=11, column=0, sticky=\"w\")\n",
    "        self.cmbx_go_out = ttk.Combobox(right_container, values=goout_settings[\"text\"], state=\"readonly\")\n",
    "        self.cmbx_go_out.grid(row=11, column=1, sticky=\"we\")\n",
    "        \n",
    "        # Dalc\n",
    "        ttk.Label(right_container, text=Dalc_settings[\"label\"]).grid(padx=4, pady=2,row=12, column=0, sticky=\"w\")\n",
    "        self.cmbx_dalc = ttk.Combobox(right_container, values=Dalc_settings[\"text\"], state=\"readonly\")\n",
    "        self.cmbx_dalc.grid(row=12, column=1, sticky=\"we\")\n",
    "        \n",
    "        # Walc\n",
    "        ttk.Label(right_container, text=Walc_settings[\"label\"]).grid(padx=4, pady=2,row=13, column=0, sticky=\"w\")\n",
    "        self.cmbx_walc = ttk.Combobox(right_container, values=Walc_settings[\"text\"], state=\"readonly\")\n",
    "        self.cmbx_walc.grid(row=13, column=1, sticky=\"we\")\n",
    "        \n",
    "        # Health\n",
    "        ttk.Label(right_container, text=health_settings[\"label\"]).grid(padx=4, pady=2,row=14, column=0, sticky=\"w\")\n",
    "        self.cmbx_health = ttk.Combobox(right_container, values=health_settings[\"text\"], state=\"readonly\")\n",
    "        self.cmbx_health.grid(row=14, column=1, sticky=\"we\")\n",
    "        \n",
    "                \n",
    "        right_container.grid(padx=8, pady=8, row=0, column=1, sticky=\"e\")\n",
    "        self.form.pack(padx=self.PAD_X, pady=self.PAD_Y, fill=\"x\")\n",
    "        \n",
    "    def create_networks(self) -> None:\n",
    "        # Create networks and fit them\n",
    "        creator_g1_g2: NetworkG1G2 = NetworkG1G2(TRAIN_PATH, NUMBER_CORES)\n",
    "        creator_g1_or_g2: NetworkG1OrG2 = NetworkG1OrG2(TRAIN_PATH, NUMBER_CORES)\n",
    "        creator_g1_g2.create()\n",
    "        creator_g1_or_g2.create()      \n",
    "        creator_g1_g2.fit()\n",
    "        creator_g1_or_g2.fit()\n",
    "        \n",
    "        # Get networks\n",
    "        self._network_g1_g2 = creator_g1_g2.get()\n",
    "        self._networl_g1_or_g2 = creator_g1_or_g2.get()\n",
    "    \n",
    "    def reset_path(self):\n",
    "        self.set_states(\"readonly\")\n",
    "        self._path = \"\"\n",
    "        self.reset_path_btn[\"state\"] = \"disabled\"\n",
    "        self.result_lbl[\"text\"] = \"\"\n",
    "    \n",
    "    def select_csv(self):\n",
    "        accepted_formats = [(\"CSV files\", \"*.csv\"), (\"All files\", \"*.*\")]\n",
    "        self._path = fd.askopenfilename(title=\"Select CSV file\", filetypes=accepted_formats, initialdir=os.pardir + \"/data\")\n",
    "        if self._path == \"\":\n",
    "            return\n",
    "        self._original_data = pd.read_csv(self._path, sep=DELIMITER)\n",
    "        preprocessing = TunedPreprocessing(self._original_data)\n",
    "        preprocessing.process()\n",
    "        self._csv_data = preprocessing.processed_data\n",
    "        self.path_lbl[\"text\"] = f\"Path: {self._path}\"\n",
    "        self.reset_path_btn[\"state\"] = \"normal\"\n",
    "        self.set_states(\"disabled\")\n",
    "        \n",
    "    def set_states(self, state: str = \"disabled\"):\n",
    "        self.cmbx_school[\"state\"] = state\n",
    "        self.cmbx_sex[\"state\"] = state\n",
    "        self.cmbx_age[\"state\"] = state\n",
    "        self.cmbx_address[\"state\"] = state\n",
    "        self.cmbx_family_size[\"state\"] = state\n",
    "        self.cmbx_Pstatus[\"state\"] = state\n",
    "        self.cmbx_traveltime[\"state\"] = state\n",
    "        self.cmbx_absences[\"state\"] = state\n",
    "        self.cmbx_medu[\"state\"] = state\n",
    "        self.cmbx_fedu[\"state\"] = state\n",
    "        self.cmbx_mjob[\"state\"] = state\n",
    "        self.cmbx_fjob[\"state\"] = state\n",
    "        self.cmbx_reason[\"state\"] = state\n",
    "        self.cmbx_guardian[\"state\"] = state\n",
    "        self.cmbx_studytime[\"state\"] = state\n",
    "        self.cmbx_failures[\"state\"] = state\n",
    "        self.cmbx_schoolsup[\"state\"] = state\n",
    "        self.cmbx_famsup[\"state\"] = state\n",
    "        self.cmbx_paid[\"state\"] = state\n",
    "        self.cmbx_activities[\"state\"] = state\n",
    "        self.cmbx_nursery[\"state\"] = state\n",
    "        self.cmbx_higher[\"state\"] = state\n",
    "        self.cmbx_internet[\"state\"] = state\n",
    "        self.cmbx_romantic[\"state\"] = state\n",
    "        self.cmbx_family_rel[\"state\"] = state\n",
    "        self.cmbx_free_time[\"state\"] = state\n",
    "        self.cmbx_go_out[\"state\"] = state\n",
    "        self.cmbx_dalc[\"state\"] = state\n",
    "        self.cmbx_walc[\"state\"] = state\n",
    "        self.cmbx_health[\"state\"] = state\n",
    "        \n",
    "    def _save_predictions_csv(self, predictions: list[int]):\n",
    "        if self._path is None:\n",
    "            print(\"No CSV file selected\")\n",
    "            return\n",
    "        df = pd.DataFrame(predictions, columns=[\"Predicted Grade (G3)\"])\n",
    "        df = pd.concat([self._original_data, df], axis=1, join=\"inner\")\n",
    "        df.to_csv(self._path[:-4] + \"-predicted.csv\", index=False, sep=DELIMITER)\n",
    "        \n",
    "    def predict(self):\n",
    "        if self._path:\n",
    "            if 'G3' in self._csv_data.columns:\n",
    "                print(\"G3 column found. No need to predict.\")\n",
    "                return\n",
    "            \n",
    "            predictions = self.select_model(self._csv_data).predict(self._csv_data, stochastic=False, n_jobs=NUMBER_CORES)\n",
    "            self._save_predictions_csv(predictions)\n",
    "            self.result_lbl[\"text\"] = f\"Predictions saved to {self._path[:-4]}-predicted.csv\"\n",
    "        else:\n",
    "            data = {\n",
    "                'school': [self.map_cmbox_text_values(self.cmbx_school.get(), school_settings)],\n",
    "                'sex': [self.map_cmbox_text_values(self.cmbx_sex, sex_settings)],\n",
    "                'age': [self.map_cmbox_text_values(self.cmbx_age.get(), age_settings)],\n",
    "                'address': [self.map_cmbox_text_values(self.cmbx_address.get(), address_settings)],\n",
    "                'famsize': [self.map_cmbox_text_values(self.cmbx_family_size.get(), family_size_settings)],\n",
    "                'Pstatus': [self.map_cmbox_text_values(self.cmbx_Pstatus.get(), Pstatus_settings)],\n",
    "                'traveltime': [self.map_cmbox_text_values(self.cmbx_traveltime.get(), traveltime_settings)],\n",
    "                'absences': [self.map_cmbox_text_values(self.cmbx_absences.get(), absences_settings)],\n",
    "                'Medu': [self.map_cmbox_text_values(self.cmbx_medu.get(), Medu_settings)],\n",
    "                'Fedu': [self.map_cmbox_text_values(self.cmbx_fedu.get(), Fedu_settings)],\n",
    "                'Mjob': [self.map_cmbox_text_values(self.cmbx_mjob.get(), Mjob_settings)],\n",
    "                'Fjob': [self.map_cmbox_text_values(self.cmbx_fjob.get(), Fjob_settings)],\n",
    "                'reason': [self.map_cmbox_text_values(self.cmbx_reason.get(), reason_settings)],\n",
    "                'guardian': [self.map_cmbox_text_values(self.cmbx_guardian.get(), guardian_settings)],\n",
    "                'studytime': [self.map_cmbox_text_values(self.cmbx_studytime.get(), studytime_settings)],\n",
    "                'failures': [self.map_cmbox_text_values(self.cmbx_failures.get(), failures_settings)],\n",
    "                'schoolsup': [self.map_cmbox_text_values(self.cmbx_schoolsup.get(), schoolsup_settings)],\n",
    "                'famsup': [self.map_cmbox_text_values(self.cmbx_famsup.get(), famsup_settings)],\n",
    "                'paid': [self.map_cmbox_text_values(self.cmbx_paid.get(), paid_settings)],\n",
    "                'activities': [self.map_cmbox_text_values(self.cmbx_activities.get(), activities_settings)],\n",
    "                'nursery': [self.map_cmbox_text_values(self.cmbx_nursery.get(), nursery_settings)],\n",
    "                'higher': [self.map_cmbox_text_values(self.cmbx_higher.get(), higher_settings)],\n",
    "                'internet': [self.map_cmbox_text_values(self.cmbx_internet.get(), internet_settings)],\n",
    "                'romantic': [self.map_cmbox_text_values(self.cmbx_romantic.get(), romantic_settings)],\n",
    "                'famrel': [self.map_cmbox_text_values(self.cmbx_family_rel.get(), famrel_settings)],\n",
    "                'freeime': [self.map_cmbox_text_values(self.cmbx_free_time.get(), free_time_settings)],\n",
    "                'goout': [self.map_cmbox_text_values(self.cmbx_go_out.get(), goout_settings)],\n",
    "                'Dalc': [self.map_cmbox_text_values(self.cmbx_dalc.get(), Dalc_settings)],\n",
    "                'Walc': [self.map_cmbox_text_values(self.cmbx_walc.get(), Walc_settings)],\n",
    "                'health': [self.map_cmbox_text_values(self.cmbx_health.get(), health_settings)],\n",
    "            }\n",
    "            \n",
    "            delete_keys = []\n",
    "            for key in data:\n",
    "                if data[key][0] is None:\n",
    "                    delete_keys.append(key)\n",
    "            \n",
    "            for key in delete_keys:\n",
    "                del data[key]\n",
    "            \n",
    "            if len(data) == 0:\n",
    "                print(\"No data to predict\")\n",
    "                return\n",
    "            \n",
    "            df = pd.DataFrame(data)\n",
    "            pre = TunedPreprocessing(df)\n",
    "            pre.process()\n",
    "            df = pre.processed_data\n",
    "            prediction = self.select_model(df).predict(df, stochastic=False, n_jobs=NUMBER_CORES)\n",
    "            self.result_lbl[\"text\"] = f\"Predicted grade (G3): {prediction.loc[0, 'G3']}\"\n",
    "            \n",
    "    def select_model(self, data: pd.DataFrame) -> Network:\n",
    "        if data is None:\n",
    "            raise ValueError(\"Data is None\")\n",
    "        \n",
    "        # Select model\n",
    "        model = None\n",
    "        if 'G1' not in data.columns and 'G2' not in data.columns:\n",
    "            model = self._network_g1_g2\n",
    "        else:\n",
    "            model = self._networl_g1_or_g2\n",
    "        return model\n",
    "            \n",
    "    def map_cmbox_text_values(self, text: str, settings: dict) -> Any:\n",
    "        if not text or text not in settings[\"text\"]:\n",
    "            return None\n",
    "        return settings[\"map_values\"][settings[\"text\"].index(text)]"
   ]
  },
  {
   "attachments": {},
   "cell_type": "markdown",
   "metadata": {},
   "source": [
    "## Start App"
   ]
  },
  {
   "cell_type": "code",
   "execution_count": 5,
   "metadata": {},
   "outputs": [
    {
     "data": {
      "application/vnd.jupyter.widget-view+json": {
       "model_id": "a2eecc35a95543138953fe5fe94de814",
       "version_major": 2,
       "version_minor": 0
      },
      "text/plain": [
       "  0%|          | 0/1 [00:00<?, ?it/s]"
      ]
     },
     "metadata": {},
     "output_type": "display_data"
    },
    {
     "data": {
      "application/vnd.jupyter.widget-view+json": {
       "model_id": "93bc8f15f249460397a646a777df8226",
       "version_major": 2,
       "version_minor": 0
      },
      "text/plain": [
       "  0%|          | 0/1 [00:00<?, ?it/s]"
      ]
     },
     "metadata": {},
     "output_type": "display_data"
    },
    {
     "data": {
      "application/vnd.jupyter.widget-view+json": {
       "model_id": "e65b82c5ba9c40dbba19f14baec0387b",
       "version_major": 2,
       "version_minor": 0
      },
      "text/plain": [
       "  0%|          | 0/1 [00:00<?, ?it/s]"
      ]
     },
     "metadata": {},
     "output_type": "display_data"
    },
    {
     "data": {
      "application/vnd.jupyter.widget-view+json": {
       "model_id": "42e330f1127a48afafde3ff15c0b775f",
       "version_major": 2,
       "version_minor": 0
      },
      "text/plain": [
       "  0%|          | 0/1 [00:00<?, ?it/s]"
      ]
     },
     "metadata": {},
     "output_type": "display_data"
    },
    {
     "data": {
      "application/vnd.jupyter.widget-view+json": {
       "model_id": "aa21f37e02bd4adc940f14e4fccdc64d",
       "version_major": 2,
       "version_minor": 0
      },
      "text/plain": [
       "  0%|          | 0/1 [00:00<?, ?it/s]"
      ]
     },
     "metadata": {},
     "output_type": "display_data"
    },
    {
     "data": {
      "application/vnd.jupyter.widget-view+json": {
       "model_id": "bec61c41d851488d96bc8bddf7b032d7",
       "version_major": 2,
       "version_minor": 0
      },
      "text/plain": [
       "  0%|          | 0/1 [00:00<?, ?it/s]"
      ]
     },
     "metadata": {},
     "output_type": "display_data"
    },
    {
     "data": {
      "application/vnd.jupyter.widget-view+json": {
       "model_id": "18d9f19274df4788b3daf0b553ce11ee",
       "version_major": 2,
       "version_minor": 0
      },
      "text/plain": [
       "  0%|          | 0/1 [00:00<?, ?it/s]"
      ]
     },
     "metadata": {},
     "output_type": "display_data"
    },
    {
     "data": {
      "application/vnd.jupyter.widget-view+json": {
       "model_id": "9dc1fae3cd3b4e30bc64d0a5e515e4e6",
       "version_major": 2,
       "version_minor": 0
      },
      "text/plain": [
       "  0%|          | 0/1 [00:00<?, ?it/s]"
      ]
     },
     "metadata": {},
     "output_type": "display_data"
    },
    {
     "data": {
      "application/vnd.jupyter.widget-view+json": {
       "model_id": "4a490b42515c43a48037b04651a35309",
       "version_major": 2,
       "version_minor": 0
      },
      "text/plain": [
       "  0%|          | 0/1 [00:00<?, ?it/s]"
      ]
     },
     "metadata": {},
     "output_type": "display_data"
    },
    {
     "data": {
      "application/vnd.jupyter.widget-view+json": {
       "model_id": "6e28923d35ba42469aec912623a55a45",
       "version_major": 2,
       "version_minor": 0
      },
      "text/plain": [
       "  0%|          | 0/1 [00:00<?, ?it/s]"
      ]
     },
     "metadata": {},
     "output_type": "display_data"
    },
    {
     "data": {
      "application/vnd.jupyter.widget-view+json": {
       "model_id": "bc5d4b5856074a00b8a9c41ad6f8e29e",
       "version_major": 2,
       "version_minor": 0
      },
      "text/plain": [
       "  0%|          | 0/1 [00:00<?, ?it/s]"
      ]
     },
     "metadata": {},
     "output_type": "display_data"
    },
    {
     "data": {
      "application/vnd.jupyter.widget-view+json": {
       "model_id": "2fdaf3d9f2ac46608c04ea58fefbc289",
       "version_major": 2,
       "version_minor": 0
      },
      "text/plain": [
       "  0%|          | 0/599 [00:00<?, ?it/s]"
      ]
     },
     "metadata": {},
     "output_type": "display_data"
    }
   ],
   "source": [
    "if __name__ == \"__main__\":\n",
    "    app = App()\n",
    "    app.mainloop()"
   ]
  }
 ],
 "metadata": {
  "kernelspec": {
   "display_name": ".env",
   "language": "python",
   "name": "python3"
  },
  "language_info": {
   "codemirror_mode": {
    "name": "ipython",
    "version": 3
   },
   "file_extension": ".py",
   "mimetype": "text/x-python",
   "name": "python",
   "nbconvert_exporter": "python",
   "pygments_lexer": "ipython3",
   "version": "3.10.10"
  },
  "orig_nbformat": 4
 },
 "nbformat": 4,
 "nbformat_minor": 2
}
